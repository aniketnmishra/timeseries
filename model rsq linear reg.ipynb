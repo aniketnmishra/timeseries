{
 "cells": [
  {
   "cell_type": "code",
   "execution_count": 1,
   "metadata": {},
   "outputs": [],
   "source": [
    "import pandas as pd\n",
    "import seaborn as sns\n",
    "import numpy as np\n",
    "import tensorflow as tf\n",
    "from sklearn.linear_model import LinearRegression\n",
    "from sklearn.preprocessing import PolynomialFeatures\n",
    "from sklearn.metrics import r2_score\n",
    "from sklearn.metrics import mean_squared_error\n",
    "import matplotlib.pyplot as plt\n",
    "from getxy import getxy\n",
    "%matplotlib inline\n",
    "import functions"
   ]
  },
  {
   "cell_type": "code",
   "execution_count": 2,
   "metadata": {},
   "outputs": [],
   "source": [
    "data = pd.read_csv('MasterOnlyPriceNAremoved.csv')"
   ]
  },
  {
   "cell_type": "code",
   "execution_count": 3,
   "metadata": {},
   "outputs": [
    {
     "data": {
      "text/plain": [
       "Index(['Date', 'jci-price', 'sensex-price', 'psei-price', 'ibov-price',\n",
       "       'inr-price', 'php-price', 'brl-price', 'idr-price', 'gold-price',\n",
       "       'crude-price'],\n",
       "      dtype='object')"
      ]
     },
     "execution_count": 3,
     "metadata": {},
     "output_type": "execute_result"
    }
   ],
   "source": [
    "data.columns\n"
   ]
  },
  {
   "cell_type": "code",
   "execution_count": 4,
   "metadata": {},
   "outputs": [
    {
     "data": {
      "text/html": [
       "<div>\n",
       "<style scoped>\n",
       "    .dataframe tbody tr th:only-of-type {\n",
       "        vertical-align: middle;\n",
       "    }\n",
       "\n",
       "    .dataframe tbody tr th {\n",
       "        vertical-align: top;\n",
       "    }\n",
       "\n",
       "    .dataframe thead th {\n",
       "        text-align: right;\n",
       "    }\n",
       "</style>\n",
       "<table border=\"1\" class=\"dataframe\">\n",
       "  <thead>\n",
       "    <tr style=\"text-align: right;\">\n",
       "      <th></th>\n",
       "      <th>jci-price</th>\n",
       "      <th>sensex-price</th>\n",
       "      <th>psei-price</th>\n",
       "      <th>ibov-price</th>\n",
       "      <th>inr-price</th>\n",
       "      <th>php-price</th>\n",
       "      <th>brl-price</th>\n",
       "      <th>idr-price</th>\n",
       "      <th>gold-price</th>\n",
       "      <th>crude-price</th>\n",
       "    </tr>\n",
       "  </thead>\n",
       "  <tbody>\n",
       "    <tr>\n",
       "      <th>jci-price</th>\n",
       "      <td>1.000000</td>\n",
       "      <td>0.936767</td>\n",
       "      <td>0.970650</td>\n",
       "      <td>0.656713</td>\n",
       "      <td>0.860300</td>\n",
       "      <td>-0.122428</td>\n",
       "      <td>0.630257</td>\n",
       "      <td>0.727539</td>\n",
       "      <td>0.711588</td>\n",
       "      <td>0.017758</td>\n",
       "    </tr>\n",
       "    <tr>\n",
       "      <th>sensex-price</th>\n",
       "      <td>0.936767</td>\n",
       "      <td>1.000000</td>\n",
       "      <td>0.917101</td>\n",
       "      <td>0.712025</td>\n",
       "      <td>0.842738</td>\n",
       "      <td>0.068926</td>\n",
       "      <td>0.737439</td>\n",
       "      <td>0.818715</td>\n",
       "      <td>0.505268</td>\n",
       "      <td>-0.164779</td>\n",
       "    </tr>\n",
       "    <tr>\n",
       "      <th>psei-price</th>\n",
       "      <td>0.970650</td>\n",
       "      <td>0.917101</td>\n",
       "      <td>1.000000</td>\n",
       "      <td>0.510060</td>\n",
       "      <td>0.898756</td>\n",
       "      <td>-0.073718</td>\n",
       "      <td>0.708683</td>\n",
       "      <td>0.787701</td>\n",
       "      <td>0.600855</td>\n",
       "      <td>-0.106348</td>\n",
       "    </tr>\n",
       "    <tr>\n",
       "      <th>ibov-price</th>\n",
       "      <td>0.656713</td>\n",
       "      <td>0.712025</td>\n",
       "      <td>0.510060</td>\n",
       "      <td>1.000000</td>\n",
       "      <td>0.366905</td>\n",
       "      <td>-0.127036</td>\n",
       "      <td>0.215537</td>\n",
       "      <td>0.320292</td>\n",
       "      <td>0.563491</td>\n",
       "      <td>0.225517</td>\n",
       "    </tr>\n",
       "    <tr>\n",
       "      <th>inr-price</th>\n",
       "      <td>0.860300</td>\n",
       "      <td>0.842738</td>\n",
       "      <td>0.898756</td>\n",
       "      <td>0.366905</td>\n",
       "      <td>1.000000</td>\n",
       "      <td>0.172368</td>\n",
       "      <td>0.857104</td>\n",
       "      <td>0.915712</td>\n",
       "      <td>0.457338</td>\n",
       "      <td>-0.291825</td>\n",
       "    </tr>\n",
       "    <tr>\n",
       "      <th>php-price</th>\n",
       "      <td>-0.122428</td>\n",
       "      <td>0.068926</td>\n",
       "      <td>-0.073718</td>\n",
       "      <td>-0.127036</td>\n",
       "      <td>0.172368</td>\n",
       "      <td>1.000000</td>\n",
       "      <td>0.500281</td>\n",
       "      <td>0.372543</td>\n",
       "      <td>-0.573966</td>\n",
       "      <td>-0.649077</td>\n",
       "    </tr>\n",
       "    <tr>\n",
       "      <th>brl-price</th>\n",
       "      <td>0.630257</td>\n",
       "      <td>0.737439</td>\n",
       "      <td>0.708683</td>\n",
       "      <td>0.215537</td>\n",
       "      <td>0.857104</td>\n",
       "      <td>0.500281</td>\n",
       "      <td>1.000000</td>\n",
       "      <td>0.937782</td>\n",
       "      <td>0.068131</td>\n",
       "      <td>-0.622947</td>\n",
       "    </tr>\n",
       "    <tr>\n",
       "      <th>idr-price</th>\n",
       "      <td>0.727539</td>\n",
       "      <td>0.818715</td>\n",
       "      <td>0.787701</td>\n",
       "      <td>0.320292</td>\n",
       "      <td>0.915712</td>\n",
       "      <td>0.372543</td>\n",
       "      <td>0.937782</td>\n",
       "      <td>1.000000</td>\n",
       "      <td>0.180983</td>\n",
       "      <td>-0.510334</td>\n",
       "    </tr>\n",
       "    <tr>\n",
       "      <th>gold-price</th>\n",
       "      <td>0.711588</td>\n",
       "      <td>0.505268</td>\n",
       "      <td>0.600855</td>\n",
       "      <td>0.563491</td>\n",
       "      <td>0.457338</td>\n",
       "      <td>-0.573966</td>\n",
       "      <td>0.068131</td>\n",
       "      <td>0.180983</td>\n",
       "      <td>1.000000</td>\n",
       "      <td>0.463761</td>\n",
       "    </tr>\n",
       "    <tr>\n",
       "      <th>crude-price</th>\n",
       "      <td>0.017758</td>\n",
       "      <td>-0.164779</td>\n",
       "      <td>-0.106348</td>\n",
       "      <td>0.225517</td>\n",
       "      <td>-0.291825</td>\n",
       "      <td>-0.649077</td>\n",
       "      <td>-0.622947</td>\n",
       "      <td>-0.510334</td>\n",
       "      <td>0.463761</td>\n",
       "      <td>1.000000</td>\n",
       "    </tr>\n",
       "  </tbody>\n",
       "</table>\n",
       "</div>"
      ],
      "text/plain": [
       "              jci-price  sensex-price  psei-price  ibov-price  inr-price  \\\n",
       "jci-price      1.000000      0.936767    0.970650    0.656713   0.860300   \n",
       "sensex-price   0.936767      1.000000    0.917101    0.712025   0.842738   \n",
       "psei-price     0.970650      0.917101    1.000000    0.510060   0.898756   \n",
       "ibov-price     0.656713      0.712025    0.510060    1.000000   0.366905   \n",
       "inr-price      0.860300      0.842738    0.898756    0.366905   1.000000   \n",
       "php-price     -0.122428      0.068926   -0.073718   -0.127036   0.172368   \n",
       "brl-price      0.630257      0.737439    0.708683    0.215537   0.857104   \n",
       "idr-price      0.727539      0.818715    0.787701    0.320292   0.915712   \n",
       "gold-price     0.711588      0.505268    0.600855    0.563491   0.457338   \n",
       "crude-price    0.017758     -0.164779   -0.106348    0.225517  -0.291825   \n",
       "\n",
       "              php-price  brl-price  idr-price  gold-price  crude-price  \n",
       "jci-price     -0.122428   0.630257   0.727539    0.711588     0.017758  \n",
       "sensex-price   0.068926   0.737439   0.818715    0.505268    -0.164779  \n",
       "psei-price    -0.073718   0.708683   0.787701    0.600855    -0.106348  \n",
       "ibov-price    -0.127036   0.215537   0.320292    0.563491     0.225517  \n",
       "inr-price      0.172368   0.857104   0.915712    0.457338    -0.291825  \n",
       "php-price      1.000000   0.500281   0.372543   -0.573966    -0.649077  \n",
       "brl-price      0.500281   1.000000   0.937782    0.068131    -0.622947  \n",
       "idr-price      0.372543   0.937782   1.000000    0.180983    -0.510334  \n",
       "gold-price    -0.573966   0.068131   0.180983    1.000000     0.463761  \n",
       "crude-price   -0.649077  -0.622947  -0.510334    0.463761     1.000000  "
      ]
     },
     "execution_count": 4,
     "metadata": {},
     "output_type": "execute_result"
    }
   ],
   "source": [
    "data.corr()"
   ]
  },
  {
   "cell_type": "code",
   "execution_count": 8,
   "metadata": {},
   "outputs": [
    {
     "data": {
      "text/plain": [
       "<matplotlib.axes._subplots.AxesSubplot at 0x169f99ebc88>"
      ]
     },
     "execution_count": 8,
     "metadata": {},
     "output_type": "execute_result"
    },
    {
     "data": {
      "image/png": "[encoded data removed]",
      "text/plain": [
       "<Figure size 432x288 with 2 Axes>"
      ]
     },
     "metadata": {
      "needs_background": "light"
     },
     "output_type": "display_data"
    }
   ],
   "source": [
    "sns.heatmap(data.corr(),cmap=\"Blues\")"
   ]
  },
  {
   "cell_type": "code",
   "execution_count": 4,
   "metadata": {},
   "outputs": [],
   "source": [
    "col = ['Date','jci-price','psei-price','php-price','ibov-price','brl-price','idr-price','crude-price']\n",
    "data.drop(col,axis=1,inplace=True)"
   ]
  },
  {
   "cell_type": "code",
   "execution_count": 5,
   "metadata": {},
   "outputs": [],
   "source": [
    "data.shape\n",
    "temp=[]"
   ]
  },
  {
   "cell_type": "code",
   "execution_count": null,
   "metadata": {},
   "outputs": [],
   "source": []
  },
  {
   "cell_type": "code",
   "execution_count": null,
   "metadata": {},
   "outputs": [],
   "source": []
  },
  {
   "cell_type": "code",
   "execution_count": 7,
   "metadata": {},
   "outputs": [
    {
     "name": "stdout",
     "output_type": "stream",
     "text": [
      "2\n",
      "(2971, 6)\n",
      "[ -0.04457634  27.37455547  -0.4709718    1.04206476 -25.03487125\n",
      "   0.46395724]\n",
      "3\n",
      "(2970, 9)\n",
      "[  0.03296485  22.70830715   0.05311814  -0.07783864   5.58538829\n",
      "  -0.52774479   1.04237598 -25.94656493   0.46744613]\n",
      "4\n",
      "(2969, 12)\n",
      "[ 7.72123681e-03  1.18047478e+01  4.72503628e-02  2.54920784e-02\n",
      "  1.12127727e+01  3.36141330e-03 -7.75783337e-02  5.82964536e+00\n",
      " -5.22087194e-01  1.04185728e+00 -2.64890609e+01  4.64502285e-01]\n",
      "5\n",
      "(2968, 15)\n",
      "[ 5.00525890e-02  2.05327479e+01 -2.61582144e-01 -4.32454654e-02\n",
      " -8.18804902e+00  3.03452532e-01  2.87421710e-02  1.24655504e+01\n",
      " -5.37240042e-03 -7.85669065e-02  6.10617127e+00 -5.35469898e-01\n",
      "  1.04054738e+00 -2.85431914e+01  4.91383451e-01]\n",
      "6\n",
      "(2967, 18)\n",
      "[ 1.97626871e-02  1.90397096e+01  2.59651560e-01  3.02553844e-02\n",
      "  2.77955372e+00 -5.19970075e-01 -4.20252665e-02 -8.37826117e+00\n",
      "  3.00213647e-01  2.80072982e-02  1.19695277e+01 -7.69772197e-03\n",
      " -7.85538128e-02  5.10907467e+00 -5.19639338e-01  1.04008215e+00\n",
      " -2.81463259e+01  4.79983264e-01]\n",
      "7\n",
      "(2966, 21)\n",
      "[-5.25111842e-04 -1.73182892e+01 -1.86781523e-01  1.95947091e-02\n",
      "  3.58324102e+01  4.49661627e-01  3.06870056e-02  2.72367153e+00\n",
      " -5.32300332e-01 -4.14982138e-02 -6.84659727e+00  3.09727894e-01\n",
      "  2.82985948e-02  1.18450203e+01 -8.81966457e-03 -7.90892313e-02\n",
      "  4.87413205e+00 -5.09341623e-01  1.04009265e+00 -2.87551631e+01\n",
      "  4.69766189e-01]\n",
      "8\n",
      "(2965, 24)\n",
      "[ 1.71681001e-02  3.12307956e+01  1.31239913e-01 -1.69740481e-02\n",
      " -4.78095015e+01 -3.25480296e-01  2.00791257e-02  3.65790427e+01\n",
      "  4.66794095e-01  2.93786608e-02  5.05707612e-01 -5.52376489e-01\n",
      " -4.11628967e-02 -6.68622449e+00  3.24327005e-01  2.82438613e-02\n",
      "  1.15135287e+01 -2.40859848e-02 -8.00000113e-02  5.53326313e+00\n",
      " -4.77807053e-01  1.04078514e+00 -2.84720911e+01  4.49763615e-01]\n",
      "9\n",
      "(2964, 27)\n",
      "[-1.16581315e-02  1.29491354e+00  1.57010317e-01  2.92498418e-02\n",
      "  3.00859854e+01 -2.48561564e-02 -1.78422541e-02 -4.81709080e+01\n",
      " -3.19906983e-01  2.01126227e-02  3.60267817e+01  4.67373445e-01\n",
      "  2.88533902e-02  6.27667786e-01 -5.61733589e-01 -4.03481184e-02\n",
      " -6.27609417e+00  3.21174607e-01  2.80735012e-02  1.15236674e+01\n",
      " -1.62131284e-02 -7.99796622e-02  5.18548693e+00 -4.83354583e-01\n",
      "  1.04102862e+00 -2.78979343e+01  4.53115336e-01]\n",
      "10\n",
      "(2963, 30)\n",
      "[ 7.20764187e-04  2.19219957e+01  6.32582398e-01 -1.17656059e-02\n",
      " -1.87623166e+01 -4.70763105e-01  2.91512969e-02  2.91426944e+01\n",
      " -2.17910226e-02 -1.85818311e-02 -4.96296838e+01 -3.17444126e-01\n",
      "  1.90552319e-02  3.49884701e+01  4.65359858e-01  3.03418173e-02\n",
      "  9.21843047e-01 -5.98427624e-01 -4.15717806e-02 -5.86546680e+00\n",
      "  3.61269712e-01  2.86166863e-02  1.01273325e+01 -3.21630028e-02\n",
      " -7.88719150e-02  8.23303265e+00 -4.63443331e-01  1.04033689e+00\n",
      " -2.86686841e+01  4.37809592e-01]\n"
     ]
    }
   ],
   "source": [
    "rsq=[]\n",
    "rsq.append(0)\n",
    "rsq.append(0)\n",
    "adj = []\n",
    "adj.append(0)\n",
    "adj.append(0)\n",
    "mse = []\n",
    "mse.append(0)\n",
    "mse.append(0)\n",
    "\n",
    "for i in range(2,11):\n",
    "    X,y = getxy(data,i,'sensex-price')\n",
    "    #print(X.shape)\n",
    "    #print(y.shape)\n",
    "    \n",
    "    #print(X)\n",
    "    #print(y)\n",
    "    print(i)\n",
    "    #polynomial_features= PolynomialFeatures(degree=2)\n",
    "    #x_poly = polynomial_features.fit_transform(X)\n",
    "    x_poly = X\n",
    "    print(x_poly.shape)\n",
    "    model = LinearRegression().fit(x_poly,y)\n",
    "    print(model.coef_)\n",
    "    y_pred = model.predict(x_poly)\n",
    "    #plt.plot(model.coef_)\n",
    "    rss = r2_score(y,y_pred)\n",
    "    rrr = functions.adjr2(x_poly,y,y_pred)\n",
    "    mse.append(mean_squared_error(y, y_pred)/y.shape[0])\n",
    "    rsq.append(rss)\n",
    "    adj.append(rrr)\n",
    "    \n",
    "    "
   ]
  },
  {
   "cell_type": "code",
   "execution_count": 9,
   "metadata": {},
   "outputs": [
    {
     "data": {
      "text/plain": [
       "[<matplotlib.lines.Line2D at 0x1fb20858dd8>]"
      ]
     },
     "execution_count": 9,
     "metadata": {},
     "output_type": "execute_result"
    },
    {
     "data": {
      "image/png": "[encoded data removed]",
      "text/plain": [
       "<Figure size 432x288 with 1 Axes>"
      ]
     },
     "metadata": {
      "needs_background": "light"
     },
     "output_type": "display_data"
    }
   ],
   "source": [
    "plt.plot(rsq[2:11])"
   ]
  },
  {
   "cell_type": "code",
   "execution_count": 10,
   "metadata": {},
   "outputs": [
    {
     "data": {
      "text/plain": [
       "[<matplotlib.lines.Line2D at 0x1fb208bfc88>]"
      ]
     },
     "execution_count": 10,
     "metadata": {},
     "output_type": "execute_result"
    },
    {
     "data": {
      "image/png": "[encoded data removed]",
      "text/plain": [
       "<Figure size 432x288 with 1 Axes>"
      ]
     },
     "metadata": {
      "needs_background": "light"
     },
     "output_type": "display_data"
    }
   ],
   "source": [
    "plt.plot(adj[2:11])"
   ]
  },
  {
   "cell_type": "code",
   "execution_count": 11,
   "metadata": {},
   "outputs": [
    {
     "data": {
      "text/plain": [
       "[<matplotlib.lines.Line2D at 0x1fb20925668>]"
      ]
     },
     "execution_count": 11,
     "metadata": {},
     "output_type": "execute_result"
    },
    {
     "data": {
      "image/png": "[encoded data removed]",
      "text/plain": [
       "<Figure size 432x288 with 1 Axes>"
      ]
     },
     "metadata": {
      "needs_background": "light"
     },
     "output_type": "display_data"
    }
   ],
   "source": [
    "plt.plot(mse[2:11])"
   ]
  },
  {
   "cell_type": "code",
   "execution_count": 87,
   "metadata": {},
   "outputs": [
    {
     "data": {
      "text/plain": [
       "[<matplotlib.lines.Line2D at 0x17aefaea080>]"
      ]
     },
     "execution_count": 87,
     "metadata": {},
     "output_type": "execute_result"
    },
    {
     "data": {
      "image/png": "[encoded data removed]",
      "text/plain": [
       "<Figure size 432x288 with 1 Axes>"
      ]
     },
     "metadata": {
      "needs_background": "light"
     },
     "output_type": "display_data"
    }
   ],
   "source": [
    "plt.plot(y)\n",
    "plt.plot(y_pred)"
   ]
  },
  {
   "cell_type": "code",
   "execution_count": null,
   "metadata": {},
   "outputs": [],
   "source": []
  }
 ],
 "metadata": {
  "kernelspec": {
   "display_name": "Python 3",
   "language": "python",
   "name": "python3"
  },
  "language_info": {
   "codemirror_mode": {
    "name": "ipython",
    "version": 3
   },
   "file_extension": ".py",
   "mimetype": "text/x-python",
   "name": "python",
   "nbconvert_exporter": "python",
   "pygments_lexer": "ipython3",
   "version": "3.7.3"
  }
 },
 "nbformat": 4,
 "nbformat_minor": 2
}
